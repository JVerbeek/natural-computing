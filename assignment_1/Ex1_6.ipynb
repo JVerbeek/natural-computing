{
 "cells": [
  {
   "cell_type": "code",
   "execution_count": 1,
   "metadata": {},
   "outputs": [],
   "source": [
    "import numpy as np\n",
    "import math\n",
    "import matplotlib.pyplot as plt"
   ]
  },
  {
   "cell_type": "code",
   "execution_count": 2,
   "metadata": {},
   "outputs": [],
   "source": [
    "def distance(x, y):\n",
    "    return math.sqrt((x[0] - y[0])**2 + (x[1] - y[1])**2)"
   ]
  },
  {
   "cell_type": "code",
   "execution_count": 3,
   "metadata": {},
   "outputs": [],
   "source": [
    "def fitness(perm):\n",
    "    total = 0\n",
    "    for i in range(len(perm) - 1):\n",
    "        total += distance(perm[i], perm[i+1])\n",
    "    return total"
   ]
  },
  {
   "cell_type": "code",
   "execution_count": 4,
   "metadata": {},
   "outputs": [],
   "source": [
    "def crossover(x, y):\n",
    "    a = np.random.randint(0, len(x)-1)\n",
    "    b = np.random.randint(a+1, len(x))\n",
    "    \n",
    "    # Values that aren't in the cutout\n",
    "    missing1 = np.array([n for n in y if not n in x[a:b]])\n",
    "    missing2 = np.array([n for n in x if not n in y[a:b]])\n",
    "    \n",
    "    child1 = np.insert(missing1, a, x[a:b], axis=0)\n",
    "    child2 = np.insert(missing2, a, y[a:b], axis=0)\n",
    "    \n",
    "    return child1, child2"
   ]
  },
  {
   "cell_type": "code",
   "execution_count": 5,
   "metadata": {},
   "outputs": [],
   "source": [
    "def mutation(x):\n",
    "    pm = 0.01\n",
    "    \n",
    "    i = np.random.randint(0, len(x))\n",
    "    # To prevent i == j:\n",
    "    j = np.random.choice(np.setdiff1d(range(0, len(x)), i))\n",
    "    \n",
    "    # Swap values\n",
    "    if np.random.rand() < pm:\n",
    "        x[i], x[j] = x[j], x[i]\n",
    "    return x"
   ]
  },
  {
   "cell_type": "code",
   "execution_count": 17,
   "metadata": {},
   "outputs": [
    {
     "data": {
      "image/png": "[encoded data removed]",
      "text/plain": [
       "<Figure size 432x288 with 1 Axes>"
      ]
     },
     "metadata": {
      "needs_background": "light"
     },
     "output_type": "display_data"
    }
   ],
   "source": [
    "np.random.seed(37)\n",
    "cities = np.loadtxt(\"file-tsp.txt\")\n",
    "pop_size = 10\n",
    "n = 15\n",
    "\n",
    "avg_fitness = []\n",
    "org = []\n",
    "\n",
    "# Random initialization\n",
    "for i in range(pop_size):\n",
    "    org.append(np.random.permutation(cities))\n",
    "\n",
    "for _ in range(n):\n",
    "    # Sort by fitness\n",
    "    org = np.array(sorted(org, key=lambda x: fitness(x), reverse=True))\n",
    "    # Apply crossover and mutation\n",
    "    child1, child2 = crossover(org[0], org[1])\n",
    "    child1, child2 = mutation(child1), mutation(child2)\n",
    "    \n",
    "    # Replace children with parents if improved\n",
    "    if fitness(child1) < fitness(org[0]):\n",
    "        org[0] = child1\n",
    "    if fitness(child2) < fitness(org[1]):\n",
    "        org[1] = child2\n",
    "        \n",
    "    avg_fitness.append(np.average([fitness(o) for o in org]))\n",
    "\n",
    "plt.plot(np.arange(len(avg_fitness)), avg_fitness)\n",
    "plt.title(\"Fitness over time\")\n",
    "plt.xlabel(\"epochs\")\n",
    "plt.ylabel(\"fitness\")\n",
    "plt.show()"
   ]
  },
  {
   "cell_type": "code",
   "execution_count": null,
   "metadata": {},
   "outputs": [],
   "source": []
  },
  {
   "cell_type": "code",
   "execution_count": null,
   "metadata": {},
   "outputs": [],
   "source": []
  }
 ],
 "metadata": {
  "kernelspec": {
   "display_name": "Python 3",
   "language": "python",
   "name": "python3"
  },
  "language_info": {
   "codemirror_mode": {
    "name": "ipython",
    "version": 3
   },
   "file_extension": ".py",
   "mimetype": "text/x-python",
   "name": "python",
   "nbconvert_exporter": "python",
   "pygments_lexer": "ipython3",
   "version": "3.7.1"
  }
 },
 "nbformat": 4,
 "nbformat_minor": 2
}
