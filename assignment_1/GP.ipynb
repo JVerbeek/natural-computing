{
 "cells": [
  {
   "cell_type": "code",
   "execution_count": 3,
   "id": "therapeutic-apartment",
   "metadata": {},
   "outputs": [],
   "source": [
    "import operator, random, math\n",
    "import numpy as np\n",
    "from deap import algorithms, base, creator, tools, gp\n",
    "\n",
    "creator.create(\"FitnessMin\", base.Fitness, weights=(-1.0,))\n",
    "creator.create(\"Individual\", gp.PrimitiveTree, fitness=creator.FitnessMin)\n",
    "\n"
   ]
  },
  {
   "cell_type": "code",
   "execution_count": 4,
   "id": "subjective-student",
   "metadata": {},
   "outputs": [],
   "source": [
    "\"\"\"Create primitive set as specified\n",
    "\"\"\"\n",
    "pset = gp.PrimitiveSet(name=\"MAIN\", arity=1)\n",
    "pset.addPrimitive(operator.add, arity=2)\n",
    "pset.addPrimitive(operator.sub, arity=2)\n",
    "pset.addPrimitive(operator.mul, arity=2)\n",
    "pset.addPrimitive(math.log, arity=1)\n",
    "pset.addPrimitive(math.exp, arity=1)\n",
    "pset.addPrimitive(math.sin, arity=1)\n",
    "pset.addPrimitive(math.cos, arity=1)\n",
    "pset.addPrimitive(operator.truediv, arity=2)\n",
    "pset.renameArguments(ARG0=\"x\")\n",
    "\n"
   ]
  },
  {
   "cell_type": "code",
   "execution_count": 15,
   "id": "native-banana",
   "metadata": {},
   "outputs": [],
   "source": [
    "def evaluateRegression(individual, points, pset):\n",
    "    fit = [0.000, -0.1629, -0.2624, -0.3129 -0.3264, -0.3125, -0.2784, -0.2289, -0.1664, -0.909, 0.0, 0.1111, 0.2496, 0.4251, 0.6496, 0.9375, 1.3056, 1.7731, 2.3616, 3.0951, 4]\n",
    "    func = gp.compile(expr=individual, pset=pset)\n",
    "    pts = []\n",
    "    for x in points:\n",
    "        try:\n",
    "            pts.append(func(x))\n",
    "        except (ValueError, ZeroDivisionError) as e:\n",
    "            pts.append(x)\n",
    "    abserrors = np.abs(np.subtract(fit, pts).tolist())\n",
    "    return sum(abserrors),"
   ]
  },
  {
   "cell_type": "code",
   "execution_count": 17,
   "id": "documented-forth",
   "metadata": {},
   "outputs": [
    {
     "name": "stdout",
     "output_type": "stream",
     "text": [
      "[-0.14412896599228475, -0.1704898059582716, -0.19493241957422391, -0.21194209747340834, -0.21851298844693795, -0.21425849491131152, -0.19980269427926264, -0.17500721979285633, -0.13763776017163604, -0.08236433485914753, 0.0, 0.12258983154066831, 0.30090504553343295, 0.5492245147698127, 0.8773934532432568, 1.2911305105253055, 1.7941804255095146, 2.388943624271576, 3.0769426902352395, 3.860165855424549]\n",
      "mul(exp(x), add(x, mul(sin(sin(sin(add(mul(x, mul(sin(sin(mul(sin(x), sin(sin(add(x, mul(sin(sin(sin(add(mul(sin(x), mul(sin(sin(mul(sin(x), x))), sub(x, x))), add(x, mul(sin(x), x)))))), x))))))), sub(mul(sin(sin(exp(mul(x, sin(sin(add(mul(sin(x), x), x))))))), sub(add(mul(x, sin(sin(sin(x)))), x), x)), x))), add(x, mul(x, x)))))), x)))\n",
      "(2.4397760202546057,)\n"
     ]
    }
   ],
   "source": [
    "toolbox = base.Toolbox()\n",
    "toolbox.register(\"expr\", gp.genFull, pset=pset, min_=1, max_=3)\n",
    "toolbox.register(\"expr_mut\", gp.genFull, min_=0, max_=2)\n",
    "toolbox.register(\"mutate\", gp.mutUniform, expr=toolbox.expr_mut, pset=pset)\n",
    "toolbox.register(\"individual\", tools.initIterate, creator.Individual, toolbox.expr)\n",
    "toolbox.register(\"population\", tools.initRepeat, list, toolbox.individual)\n",
    "toolbox.register(\"evaluate\", evaluateRegression, points=[x/10. for x in range(-10, 10)],\n",
    "                 pset=pset)\n",
    "toolbox.register(\"mate\", gp.cxOnePoint)\n",
    "toolbox.register(\"select\", tools.selTournament, tournsize=3)\n",
    "points = [x/10. for x in range(-10, 10)]\n",
    "\n",
    "if __name__ == \"__main__\":\n",
    "    pop = toolbox.population(n=500)\n",
    "    algorithms.eaSimple(pop, toolbox, cxpb=0.7, mutpb=0, ngen=50, verbose=False)\n",
    "    bests = tools.selBest(pop, k=1)\n",
    "    func = gp.compile(expr=bests[0], pset=pset)\n",
    "    lst = [func(x) for x in points]\n",
    "    print(lst)\n",
    "    print(bests[0])\n",
    "    print(bests[0].fitness)"
   ]
  },
  {
   "cell_type": "code",
   "execution_count": null,
   "id": "continued-cement",
   "metadata": {},
   "outputs": [],
   "source": []
  },
  {
   "cell_type": "code",
   "execution_count": null,
   "id": "operational-switzerland",
   "metadata": {},
   "outputs": [],
   "source": []
  },
  {
   "cell_type": "code",
   "execution_count": null,
   "id": "scheduled-vacation",
   "metadata": {},
   "outputs": [],
   "source": []
  }
 ],
 "metadata": {
  "kernelspec": {
   "display_name": "Python 3",
   "language": "python",
   "name": "python3"
  },
  "language_info": {
   "codemirror_mode": {
    "name": "ipython",
    "version": 3
   },
   "file_extension": ".py",
   "mimetype": "text/x-python",
   "name": "python",
   "nbconvert_exporter": "python",
   "pygments_lexer": "ipython3",
   "version": "3.8.5"
  }
 },
 "nbformat": 4,
 "nbformat_minor": 5
}
