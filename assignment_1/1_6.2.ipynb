{
 "cells": [
  {
   "cell_type": "code",
   "execution_count": 3,
   "id": "living-month",
   "metadata": {},
   "outputs": [
    {
     "name": "stderr",
     "output_type": "stream",
     "text": [
      "100%|██████████| 500/500 [00:17<00:00, 28.12it/s] \n"
     ]
    },
    {
     "name": "stdout",
     "output_type": "stream",
     "text": [
      "Done with GA\n"
     ]
    },
    {
     "data": {
      "image/png": "[encoded data removed]",
      "text/plain": [
       "<Figure size 432x288 with 1 Axes>"
      ]
     },
     "metadata": {
      "needs_background": "light"
     },
     "output_type": "display_data"
    }
   ],
   "source": [
    "import os\n",
    "import math\n",
    "import numpy as np\n",
    "import matplotlib.pyplot as plt\n",
    "from tqdm import tqdm\n",
    "\n",
    "#print(os.getcwd())\n",
    "#os.chdir(os.environ[\"HOME\"]+\"/natural-computing/assignment-1/\")\n",
    "\n",
    "def dist(node1, node2): \n",
    "    \"\"\"Euclidean distance measure for nodes in TSP graph\"\"\"\n",
    "    return math.sqrt((node1[0]-node2[0])**2+(node1[1]-node2[1])**2)\n",
    "\n",
    "def fitness(ind):\n",
    "    \"\"\"Fitness of individual ind, computed by summing Euclidean distances between\n",
    "    pairs of nodes.\"\"\"\n",
    "    total_dist = 0\n",
    "    for i in range(1,  len(ind)):\n",
    "        total_dist += dist(ind[i-1], ind[i])\n",
    "    return total_dist\n",
    "\n",
    "def mutate(ind):\n",
    "    \"Switch genes of individual at random indices\"\n",
    "    length = len(ind)\n",
    "    p = np.random.randint(0, length)\n",
    "    q = np.random.randint(0, length)\n",
    "    ind[[p,q]] = ind[[q,p]]\n",
    "    return ind\n",
    "\n",
    "def crossover(ind1, ind2):\n",
    "    \"\"\"Perform random crossover operation between ind1 and ind2\"\"\"\n",
    "    #@TODO: implement looparound\n",
    "    length = len(ind1)\n",
    "    p = np.random.randint(1, length)   \n",
    "    q = np.random.randint(p, length)\n",
    "    # Ensure q > p\n",
    "    \n",
    "    cross1 = ind2[p:q]  # Slice crossover section\n",
    "    cross2 = ind1[p:q]\n",
    "\n",
    "    add1 = np.array([n.tolist() for n in ind2 if n.tolist() not in cross1.tolist()]) # Get all genes in parent that are not in crossover part\n",
    "    add2 = np.array([n.tolist() for n in ind1 if n.tolist() not in cross2.tolist()])\n",
    "    \n",
    "    \n",
    "    child1 = np.vstack((add1[:p], cross1, add1[p:]))  # Add parent genes to crossover in order\n",
    "    child2 = np.vstack((add2[:p], cross2, add2[p:])) \n",
    "        \n",
    "    return child1, child2\n",
    "    \n",
    "    \n",
    "def n_opt(problem, n=2, n_gen=500):\n",
    "    \"\"\"Apply n-opt to the solution. This is effectively slicing the full path into n+1 pieces, and then\n",
    "    recombining those pieces. If the full path is a cycle, then two slices need to be made, if it is not then \n",
    "    one slice suffices.\"\"\"\n",
    "    candidates = []\n",
    "    fitness_list = []\n",
    "    solution = np.random.permutation(problem)\n",
    "    \n",
    "    for i in range(n_gen):\n",
    "        # Decide how to recombine\n",
    "        p = np.random.randint(len(problem)-1)\n",
    "        q = np.random.randint(len(problem)-1)\n",
    "        part1 = solution[:p]\n",
    "        part2 = solution[p:q]\n",
    "        part3 = solution[q:]\n",
    "        arr = np.array([part1, part2, part3], dtype=\"object\")\n",
    "        perm = np.random.permutation(3)\n",
    "        n_opt = arr[perm]\n",
    "        n_opt = np.vstack(n_opt)\n",
    "    \n",
    "        if fitness(n_opt) <= fitness(solution):\n",
    "              solution = n_opt\n",
    "        fitness_list.append(fitness(solution))\n",
    "    return fitness_list\n",
    "    \n",
    "with open(\"file-tsp.txt\") as file:\n",
    "    nodes = [file.readline().strip().split() for line in file]\n",
    "    nodes = np.array([np.array(tuple(map(float, node))) for node in nodes])\n",
    "\n",
    "def run_ga(problem, gen_size = 2, pop_size = 2, n_gen =500):\n",
    "    candidates = []\n",
    "    mutation_prob = 0.05\n",
    "    fitness_list = []\n",
    "    for i in range(pop_size):\n",
    "        candidates.append(np.random.permutation(problem))\n",
    "   \n",
    "    for n in tqdm(range(n_gen)):\n",
    "        c_sort = sorted(candidates, key=lambda x: fitness(x), reverse=False)\n",
    "        c_sort = c_sort[:4]\n",
    "        fitness_list.append(fitness(c_sort[0]))   # Allow best 2 parents to procreate\n",
    "        parent1 = c_sort[0]\n",
    "        parent2 = c_sort[1]\n",
    "        \n",
    "        for i in range(int(pop_size/2)):\n",
    "            child1, child2 = crossover(parent1, parent2)\n",
    "            if np.random.random() < mutation_prob:\n",
    "                child1 = mutate(child1)\n",
    "            if np.random.random() < mutation_prob:\n",
    "                child2 = mutate(child2)\n",
    "            candidates.append(child1)\n",
    "            candidates.append(child2)\n",
    "            \n",
    "    c_sort = sorted(candidates, key=lambda x: fitness(x), reverse=False)\n",
    "    fitness_list.append(fitness(c_sort[0]))\n",
    "    print(\"Done with GA\")\n",
    "    return fitness_list\n",
    "\n",
    "# Do a plot\n",
    "plt.plot(run_ga(nodes), label = \"(2,5)-GA\")\n",
    "plt.plot(n_opt(nodes), label=\"2-opt\")\n",
    "plt.xlabel(\"Number of iterations\")\n",
    "plt.ylabel(\"Fitness\")\n",
    "plt.title(\"Comparison for 2-opt and GA by fitness over 1000 iterations\")\n",
    "plt.legend()\n",
    "plt.show()"
   ]
  },
  {
   "cell_type": "code",
   "execution_count": null,
   "id": "standing-charlotte",
   "metadata": {},
   "outputs": [],
   "source": []
  }
 ],
 "metadata": {
  "kernelspec": {
   "display_name": "Python 3",
   "language": "python",
   "name": "python3"
  },
  "language_info": {
   "codemirror_mode": {
    "name": "ipython",
    "version": 3
   },
   "file_extension": ".py",
   "mimetype": "text/x-python",
   "name": "python",
   "nbconvert_exporter": "python",
   "pygments_lexer": "ipython3",
   "version": "3.8.5"
  }
 },
 "nbformat": 4,
 "nbformat_minor": 5
}
