{
 "cells": [
  {
   "cell_type": "markdown",
   "metadata": {},
   "source": [
    "### Question 3: Clustering"
   ]
  },
  {
   "cell_type": "code",
   "execution_count": 6,
   "metadata": {},
   "outputs": [
    {
     "name": "stdout",
     "output_type": "stream",
     "text": [
      "--2021-02-20 13:06:57--  https://archive.ics.uci.edu/ml/machine-learning-databases/iris/iris.data\n",
      "Resolving archive.ics.uci.edu (archive.ics.uci.edu)... 128.195.10.252\n",
      "Connecting to archive.ics.uci.edu (archive.ics.uci.edu)|128.195.10.252|:443... connected.\n",
      "HTTP request sent, awaiting response... 200 OK\n",
      "Length: 4551 (4.4K) [application/x-httpd-php]\n",
      "Saving to: ‘iris.data.4’\n",
      "\n",
      "iris.data.4         100%[===================>]   4.44K  --.-KB/s    in 0.01s   \n",
      "\n",
      "2021-02-20 13:06:58 (438 KB/s) - ‘iris.data.4’ saved [4551/4551]\n",
      "\n"
     ]
    }
   ],
   "source": [
    "!wget \"https://archive.ics.uci.edu/ml/machine-learning-databases/iris/iris.data\""
   ]
  },
  {
   "cell_type": "markdown",
   "metadata": {},
   "source": [
    "#### Examine data"
   ]
  },
  {
   "cell_type": "code",
   "execution_count": 7,
   "metadata": {},
   "outputs": [
    {
     "data": {
      "text/html": [
       "<div>\n",
       "<style scoped>\n",
       "    .dataframe tbody tr th:only-of-type {\n",
       "        vertical-align: middle;\n",
       "    }\n",
       "\n",
       "    .dataframe tbody tr th {\n",
       "        vertical-align: top;\n",
       "    }\n",
       "\n",
       "    .dataframe thead th {\n",
       "        text-align: right;\n",
       "    }\n",
       "</style>\n",
       "<table border=\"1\" class=\"dataframe\">\n",
       "  <thead>\n",
       "    <tr style=\"text-align: right;\">\n",
       "      <th></th>\n",
       "      <th>0</th>\n",
       "      <th>1</th>\n",
       "      <th>2</th>\n",
       "      <th>3</th>\n",
       "      <th>4</th>\n",
       "    </tr>\n",
       "  </thead>\n",
       "  <tbody>\n",
       "    <tr>\n",
       "      <th>0</th>\n",
       "      <td>5.1</td>\n",
       "      <td>3.5</td>\n",
       "      <td>1.4</td>\n",
       "      <td>0.2</td>\n",
       "      <td>Iris-setosa</td>\n",
       "    </tr>\n",
       "    <tr>\n",
       "      <th>1</th>\n",
       "      <td>4.9</td>\n",
       "      <td>3.0</td>\n",
       "      <td>1.4</td>\n",
       "      <td>0.2</td>\n",
       "      <td>Iris-setosa</td>\n",
       "    </tr>\n",
       "    <tr>\n",
       "      <th>2</th>\n",
       "      <td>4.7</td>\n",
       "      <td>3.2</td>\n",
       "      <td>1.3</td>\n",
       "      <td>0.2</td>\n",
       "      <td>Iris-setosa</td>\n",
       "    </tr>\n",
       "    <tr>\n",
       "      <th>3</th>\n",
       "      <td>4.6</td>\n",
       "      <td>3.1</td>\n",
       "      <td>1.5</td>\n",
       "      <td>0.2</td>\n",
       "      <td>Iris-setosa</td>\n",
       "    </tr>\n",
       "    <tr>\n",
       "      <th>4</th>\n",
       "      <td>5.0</td>\n",
       "      <td>3.6</td>\n",
       "      <td>1.4</td>\n",
       "      <td>0.2</td>\n",
       "      <td>Iris-setosa</td>\n",
       "    </tr>\n",
       "  </tbody>\n",
       "</table>\n",
       "</div>"
      ],
      "text/plain": [
       "     0    1    2    3            4\n",
       "0  5.1  3.5  1.4  0.2  Iris-setosa\n",
       "1  4.9  3.0  1.4  0.2  Iris-setosa\n",
       "2  4.7  3.2  1.3  0.2  Iris-setosa\n",
       "3  4.6  3.1  1.5  0.2  Iris-setosa\n",
       "4  5.0  3.6  1.4  0.2  Iris-setosa"
      ]
     },
     "execution_count": 7,
     "metadata": {},
     "output_type": "execute_result"
    }
   ],
   "source": [
    "import pandas as pd\n",
    "import random\n",
    "from tqdm import tqdm\n",
    "data = pd.read_csv(\"iris.data\", header=None)\n",
    "data.head()"
   ]
  },
  {
   "cell_type": "code",
   "execution_count": 9,
   "metadata": {},
   "outputs": [],
   "source": [
    "def random_centroid(data):\n",
    "    centroid = []\n",
    "    for i in range(4):\n",
    "        centroid.append(random.uniform(min(data[i]), max(data[i])))\n",
    "    centroid = np.array(centroid)\n",
    "    return centroid\n",
    "\n",
    "\n",
    "def dst(x, c):\n",
    "    return np.linalg.norm(x-c)\n",
    "\n",
    "\n",
    "def quantization_error(p):\n",
    "    total_clusters = 0\n",
    "    total_single = 0\n",
    "    for c in p[\"clusters\"]:\n",
    "        for dp in c[\"dps\"]:\n",
    "            total_single += dst(dp, c[\"centroid\"])/len(c[\"dps\"])\n",
    "        total_clusters += total_single\n",
    "    return total_clusters/len(p[\"clusters\"])\n"
   ]
  },
  {
   "cell_type": "code",
   "execution_count": 16,
   "metadata": {},
   "outputs": [
    {
     "name": "stderr",
     "output_type": "stream",
     "text": [
      "100%|██████████| 100/100 [01:27<00:00,  1.14it/s]\n"
     ]
    }
   ],
   "source": [
    "# Represent cluster\n",
    "ncentroids = 3\n",
    "ncols = 4\n",
    "nrows = len(data)\n",
    "nparticles = 100\n",
    "\n",
    "centroids = []\n",
    "particles = []\n",
    "\n",
    "v = 1\n",
    "for p in range(nparticles):\n",
    "    particle = {}\n",
    "    for i in range(ncentroids):\n",
    "        centroid = random_centroid(data)\n",
    "        x = {\"centroid\":centroid, \n",
    "             \"dps\":np.zeros((1, 4)),\n",
    "             \"v\":v,\n",
    "             \"loc\":centroid}\n",
    "        centroids.append(x)\n",
    "    centroids = np.array(centroids)\n",
    "    particle[\"clusters\"] = centroids                  \n",
    "    particle[\"fitness\"] = quantization_error(particle)\n",
    "    particles.append(particle)\n",
    "    centroids = []\n",
    "# Swarm of candidate clusterings\n",
    "global_best = 100000\n",
    "itr = 100\n",
    "\n",
    "#For i in iterations\n",
    "for i in tqdm(range(itr)):\n",
    "    for p in particles:\n",
    "        for dp in data.to_numpy():\n",
    "            best = 10000                  # A very big number\n",
    "            cluster = None\n",
    "            for centroid in p[\"clusters\"]:            # Calculate Euclidean distance to all centroids\n",
    "                distance = dst(dp[:-1], centroid[\"centroid\"])  \n",
    "                if distance < best:\n",
    "                    best = distance\n",
    "                    cluster = centroid\n",
    "            cluster[\"dps\"] = np.vstack((cluster[\"dps\"], dp[:-1]))     # Assign datavector to closest centroid\n",
    "        \n",
    "        p[\"fitness\"] = quantization_error(p)             # Quantization error fitness of particle\n",
    "    \n",
    "        if p[\"fitness\"] < global_best:\n",
    "            global_best = p[\"fitness\"]\n",
    "    \n",
    "    for p in particles:\n",
    "        for c in p[\"clusters\"]:     # For each particle update centroid \n",
    "            vnew = 0.73*c[\"v\"]+1.5*(c[\"loc\"]-c[\"centroid\"])+1.5*(global_best-x[\"centroid\"])\n",
    "            c[\"v\"] = vnew\n",
    "            c[\"centroid\"] = c[\"centroid\"] + vnew\n",
    "            \n",
    "        if p[\"fitness\"] > quantization_error(p):\n",
    "            for c in p[\"clusters\"]:\n",
    "                c[\"loc\"] = c[\"centroid\"]\n",
    "    \n",
    "    for p in particles:\n",
    "        if i < itr-2:\n",
    "            for c in p[\"clusters\"]:\n",
    "                c[\"dps\"] = np.zeros((1, 4))\n",
    "\n",
    "        \n"
   ]
  },
  {
   "cell_type": "code",
   "execution_count": 18,
   "metadata": {},
   "outputs": [
    {
     "name": "stdout",
     "output_type": "stream",
     "text": [
      "Quantization error for fittest particle: 6.821462522300088\n"
     ]
    },
    {
     "data": {
      "image/png": "[encoded data removed]",
      "text/plain": [
       "<Figure size 432x288 with 1 Axes>"
      ]
     },
     "metadata": {
      "needs_background": "light"
     },
     "output_type": "display_data"
    },
    {
     "data": {
      "image/png": "[encoded data removed]",
      "text/plain": [
       "<Figure size 360x288 with 1 Axes>"
      ]
     },
     "metadata": {
      "needs_background": "light"
     },
     "output_type": "display_data"
    }
   ],
   "source": [
    "best = 100000\n",
    "for p in particles:\n",
    "    if p[\"fitness\"] < best:\n",
    "        best_p = p\n",
    "\n",
    "print(\"Quantization error for fittest particle:\", best_p[\"fitness\"])\n",
    "        \n",
    "\n",
    "for c in best_p[\"clusters\"]:\n",
    "    plt.scatter(c[\"dps\"][1:,0], c[\"dps\"][1:,1])\n",
    "# The indices of the features that we are plotting\n",
    "plt.ylabel(\"Sepal width\")\n",
    "plt.xlabel(\"Sepal length\")\n",
    "plt.title(\"Classes found by PSO for first two attributes of iris dataset, 100 iterations\")\n",
    "x_index = 0\n",
    "y_index = 1\n",
    "\n",
    "\n",
    "plt.figure(figsize=(5, 4))\n",
    "setosa = data[data[4] == \"Iris-setosa\"].to_numpy()\n",
    "virginica =  data[data[4] == \"Iris-virginica\"].to_numpy()\n",
    "versicolor =  data[data[4] == \"Iris-versicolor\"].to_numpy()\n",
    "\n",
    "for iris in (setosa, virginica, versicolor):\n",
    "    plt.scatter(iris[:, x_index], iris[:, y_index])\n",
    "\n",
    "plt.title(\"True classes for first two attributes of iris dataset\")\n",
    "plt.tight_layout()\n",
    "plt.show()"
   ]
  },
  {
   "cell_type": "code",
   "execution_count": 19,
   "metadata": {},
   "outputs": [
    {
     "name": "stderr",
     "output_type": "stream",
     "text": [
      "100%|██████████| 10/10 [00:00<00:00, 151.17it/s]\n"
     ]
    }
   ],
   "source": [
    "nclusters = 3\n",
    "iterations = 10\n",
    "clusters = []\n",
    "for i in range(nclusters):\n",
    "    cluster = {}\n",
    "    cluster[\"centroid\"] = random_centroid(data)\n",
    "    cluster[\"data\"] = np.zeros((1,4))\n",
    "    clusters.append(cluster)\n",
    "\n",
    "for i in tqdm(range(iterations)):\n",
    "    for vector in data.to_numpy():\n",
    "        best = 10000\n",
    "        centroid = None\n",
    "        for cluster in clusters:\n",
    "            new_dst = dst(vector[:-1], cluster[\"centroid\"])\n",
    "            if new_dst < best:\n",
    "                best = new_dst\n",
    "                best_centroid = cluster\n",
    "        best_centroid[\"data\"] = np.vstack((best_centroid[\"data\"], vector[:-1]))\n",
    "    \n",
    "    for cluster in clusters:\n",
    "        cluster[\"centroid\"] = cluster[\"data\"].mean(axis=0)\n",
    "        if i < iterations-1:\n",
    "            cluster[\"data\"] = np.zeros((1,4))\n",
    "\n"
   ]
  },
  {
   "cell_type": "code",
   "execution_count": 15,
   "metadata": {},
   "outputs": [
    {
     "name": "stdout",
     "output_type": "stream",
     "text": [
      "1.4749877945292666\n"
     ]
    },
    {
     "data": {
      "image/png": "[encoded data removed]",
      "text/plain": [
       "<Figure size 432x288 with 1 Axes>"
      ]
     },
     "metadata": {
      "needs_background": "light"
     },
     "output_type": "display_data"
    },
    {
     "data": {
      "image/png": "[encoded data removed]",
      "text/plain": [
       "<Figure size 360x288 with 1 Axes>"
      ]
     },
     "metadata": {
      "needs_background": "light"
     },
     "output_type": "display_data"
    }
   ],
   "source": [
    "def quantization_error_kmeans(clusters):\n",
    "    total_clusters = 0\n",
    "    total_single = 0\n",
    "    for c in clusters:\n",
    "        for dp in c[\"data\"]:\n",
    "            total_single += dst(dp, c[\"centroid\"])/len(c[\"data\"])\n",
    "        total_clusters += total_single\n",
    "    return total_clusters/len(clusters)\n",
    "\n",
    "print(quantization_error_kmeans(clusters))\n",
    "\n",
    "for c in clusters:\n",
    "    plt.scatter(c[\"data\"][1:,0], c[\"data\"][1:,1])\n",
    "plt.ylabel(\"Sepal width\")\n",
    "plt.xlabel(\"Sepal length\")\n",
    "plt.title(\"Clusters of iris dataset on first two dimensions found by K-means, for k=3, 10 iterations\")\n",
    "plt.show()\n",
    "plt.figure(figsize=(5, 4))\n",
    "setosa = data[data[4] == \"Iris-setosa\"].to_numpy()\n",
    "virginica =  data[data[4] == \"Iris-virginica\"].to_numpy()\n",
    "versicolor =  data[data[4] == \"Iris-versicolor\"].to_numpy()\n",
    "\n",
    "for iris in (setosa, virginica, versicolor):\n",
    "    plt.scatter(iris[:, x_index], iris[:, y_index])\n",
    "plt.ylabel(\"Sepal width\")\n",
    "plt.xlabel(\"Sepal length\")\n",
    "plt.title(\"True clusters of iris dataset on first two dimensions\")\n",
    "plt.tight_layout()\n",
    "plt.show()"
   ]
  },
  {
   "cell_type": "code",
   "execution_count": null,
   "metadata": {},
   "outputs": [],
   "source": []
  },
  {
   "cell_type": "code",
   "execution_count": null,
   "metadata": {},
   "outputs": [],
   "source": []
  }
 ],
 "metadata": {
  "kernelspec": {
   "display_name": "Python 3",
   "language": "python",
   "name": "python3"
  },
  "language_info": {
   "codemirror_mode": {
    "name": "ipython",
    "version": 3
   },
   "file_extension": ".py",
   "mimetype": "text/x-python",
   "name": "python",
   "nbconvert_exporter": "python",
   "pygments_lexer": "ipython3",
   "version": "3.8.5"
  }
 },
 "nbformat": 4,
 "nbformat_minor": 4
}
