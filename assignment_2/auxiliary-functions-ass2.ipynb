{
 "cells": [
  {
   "cell_type": "markdown",
   "metadata": {},
   "source": [
    "### Question 1: Swarm behavior"
   ]
  },
  {
   "cell_type": "code",
   "execution_count": 2,
   "metadata": {},
   "outputs": [],
   "source": [
    "import numpy as np\n",
    "import matplotlib.pyplot as plt\n",
    "from matplotlib.animation import FuncAnimation\n",
    "from IPython.display import HTML\n",
    "\n",
    "def f(x):\n",
    "    res = 0\n",
    "    for xi in x:\n",
    "        res += -1*xi*np.sin(np.sqrt(abs(xi)))\n",
    "    return res\n",
    "\n",
    "def g(x):\n",
    "    return np.array([xi**2 for xi in x])\n",
    "\n",
    "def fitness(x, fn, minimum):\n",
    "    return fn(x) - minimum\n",
    "#837.9658\n",
    "def next_velocity(x, omega):\n",
    "    return omega*x[\"v\"]+0.5*(x[\"loc\"]-x[\"cur\"])+0.5*(x[\"soc\"]-x[\"cur\"])\n",
    "\n",
    "def next_position(x):\n",
    "    return x[\"cur\"] + x[\"v\"]\n",
    "\n",
    "def update(swarm, itr, fn, omega, minimum):\n",
    "    fit = -1000\n",
    "    update_global = False\n",
    "    for i in range(itr):\n",
    "        for x in swarm:\n",
    "            x[\"v\"] = next_velocity(x, omega)\n",
    "            x[\"cur\"] = next_position(x)\n",
    "            \n",
    "            if fitness(x[\"cur\"], fn, minimum) > fitness(x[\"loc\"], fn, minimum):\n",
    "                x[\"loc\"] = x[\"cur\"]\n",
    "            \n",
    "            if fitness(x[\"cur\"], fn, minimum) > fitness(x[\"soc\"], fn, minimum):\n",
    "                update_global = True\n",
    "                global_best = x[\"cur\"]\n",
    "                \n",
    "        if update_global:\n",
    "            for x in swarm:\n",
    "                x[\"soc\"] = global_best\n",
    "        x_pos = np.array([swarm[i][\"cur\"] for i in range(len(swarm))])\n",
    "    return x_pos\n"
   ]
  },
  {
   "cell_type": "code",
   "execution_count": 3,
   "metadata": {},
   "outputs": [
    {
     "name": "stdout",
     "output_type": "stream",
     "text": [
      "[[-432.5 -432.5]\n",
      " [-437.5 -437.5]\n",
      " [-440.  -440. ]] [[-488.75 -488.75]\n",
      " [-467.5  -467.5 ]\n",
      " [-465.   -465.  ]] [[-429.375 -429.375]\n",
      " [-415.5   -415.5  ]\n",
      " [-417.5   -417.5  ]]\n"
     ]
    },
    {
     "data": {
      "image/png": "[encoded data removed]",
      "text/plain": [
       "<Figure size 504x504 with 1 Axes>"
      ]
     },
     "metadata": {
      "needs_background": "light"
     },
     "output_type": "display_data"
    }
   ],
   "source": [
    "x1 = {\"cur\":np.array([-400, -400]), \"loc\":np.array([-400, -400]), \"soc\":np.array([-415, -415]), \"v\":np.array([-50, -50])}\n",
    "x2 = {\"cur\":np.array([-410, -410]), \"loc\":np.array([-410, -410]), \"soc\":np.array([-415, -415]), \"v\":np.array([-50, -50])}\n",
    "x3 = {\"cur\":np.array([-415, -415]), \"loc\":np.array([-415, -415]), \"soc\":np.array([-415, -415]), \"v\":np.array([-50, -50])}\n",
    "\n",
    "x_pos = np.array([x1[\"cur\"], x2[\"cur\"], x3[\"cur\"]])\n",
    "swarm = np.array([x1, x2, x3])\n",
    "\n",
    "x_pos1 = update(swarm, 1, f, 0.5, 837.9658)\n",
    "x_pos2 = update(swarm, 1, f, 2, 837.9658)\n",
    "x_pos3 = update(swarm, 1, f, 0.1, 837.9658)\n",
    "\n",
    "print(x_pos1, x_pos2, x_pos3)\n",
    "\n",
    "fig = plt.figure(figsize=(7, 7))\n",
    "ax = fig.add_axes([0, 0, 1, 1], frameon=False)\n",
    "ax.scatter(-420.9687, -420.9687)\n",
    "ax.scatter(x_pos[:,0], x_pos[:,1])\n",
    "plt.scatter(x_pos[:,0], x_pos[:,1])\n",
    "plt.show()"
   ]
  },
  {
   "cell_type": "markdown",
   "metadata": {},
   "source": [
    "### Question 2: Single particle"
   ]
  },
  {
   "cell_type": "code",
   "execution_count": 4,
   "metadata": {},
   "outputs": [
    {
     "data": {
      "text/plain": [
       "array([[109.99760947]])"
      ]
     },
     "execution_count": 4,
     "metadata": {},
     "output_type": "execute_result"
    }
   ],
   "source": [
    "single = {\"cur\":np.array([20]), \"loc\":np.array([20]), \"soc\":np.array([20]), \"v\": np.array([10])}\n",
    "update([single], 100, g, 0.9, 0)"
   ]
  },
  {
   "cell_type": "markdown",
   "metadata": {},
   "source": [
    "### Question 3: Clustering"
   ]
  },
  {
   "cell_type": "code",
   "execution_count": 5,
   "metadata": {},
   "outputs": [
    {
     "name": "stdout",
     "output_type": "stream",
     "text": [
      "--2021-02-15 09:50:01--  https://archive.ics.uci.edu/ml/machine-learning-databases/iris/iris.data\n",
      "Resolving archive.ics.uci.edu (archive.ics.uci.edu)... 128.195.10.252\n",
      "Connecting to archive.ics.uci.edu (archive.ics.uci.edu)|128.195.10.252|:443... connected.\n",
      "HTTP request sent, awaiting response... 200 OK\n",
      "Length: 4551 (4.4K) [application/x-httpd-php]\n",
      "Saving to: ‘iris.data.1’\n",
      "\n",
      "iris.data.1         100%[===================>]   4.44K  --.-KB/s    in 0s      \n",
      "\n",
      "2021-02-15 09:50:02 (22.7 MB/s) - ‘iris.data.1’ saved [4551/4551]\n",
      "\n"
     ]
    }
   ],
   "source": [
    "!wget \"https://archive.ics.uci.edu/ml/machine-learning-databases/iris/iris.data\""
   ]
  },
  {
   "cell_type": "code",
   "execution_count": 6,
   "metadata": {},
   "outputs": [
    {
     "data": {
      "text/html": [
       "<div>\n",
       "<style scoped>\n",
       "    .dataframe tbody tr th:only-of-type {\n",
       "        vertical-align: middle;\n",
       "    }\n",
       "\n",
       "    .dataframe tbody tr th {\n",
       "        vertical-align: top;\n",
       "    }\n",
       "\n",
       "    .dataframe thead th {\n",
       "        text-align: right;\n",
       "    }\n",
       "</style>\n",
       "<table border=\"1\" class=\"dataframe\">\n",
       "  <thead>\n",
       "    <tr style=\"text-align: right;\">\n",
       "      <th></th>\n",
       "      <th>0</th>\n",
       "      <th>1</th>\n",
       "      <th>2</th>\n",
       "      <th>3</th>\n",
       "      <th>4</th>\n",
       "    </tr>\n",
       "  </thead>\n",
       "  <tbody>\n",
       "    <tr>\n",
       "      <th>0</th>\n",
       "      <td>5.1</td>\n",
       "      <td>3.5</td>\n",
       "      <td>1.4</td>\n",
       "      <td>0.2</td>\n",
       "      <td>Iris-setosa</td>\n",
       "    </tr>\n",
       "    <tr>\n",
       "      <th>1</th>\n",
       "      <td>4.9</td>\n",
       "      <td>3.0</td>\n",
       "      <td>1.4</td>\n",
       "      <td>0.2</td>\n",
       "      <td>Iris-setosa</td>\n",
       "    </tr>\n",
       "    <tr>\n",
       "      <th>2</th>\n",
       "      <td>4.7</td>\n",
       "      <td>3.2</td>\n",
       "      <td>1.3</td>\n",
       "      <td>0.2</td>\n",
       "      <td>Iris-setosa</td>\n",
       "    </tr>\n",
       "    <tr>\n",
       "      <th>3</th>\n",
       "      <td>4.6</td>\n",
       "      <td>3.1</td>\n",
       "      <td>1.5</td>\n",
       "      <td>0.2</td>\n",
       "      <td>Iris-setosa</td>\n",
       "    </tr>\n",
       "    <tr>\n",
       "      <th>4</th>\n",
       "      <td>5.0</td>\n",
       "      <td>3.6</td>\n",
       "      <td>1.4</td>\n",
       "      <td>0.2</td>\n",
       "      <td>Iris-setosa</td>\n",
       "    </tr>\n",
       "  </tbody>\n",
       "</table>\n",
       "</div>"
      ],
      "text/plain": [
       "     0    1    2    3            4\n",
       "0  5.1  3.5  1.4  0.2  Iris-setosa\n",
       "1  4.9  3.0  1.4  0.2  Iris-setosa\n",
       "2  4.7  3.2  1.3  0.2  Iris-setosa\n",
       "3  4.6  3.1  1.5  0.2  Iris-setosa\n",
       "4  5.0  3.6  1.4  0.2  Iris-setosa"
      ]
     },
     "execution_count": 6,
     "metadata": {},
     "output_type": "execute_result"
    }
   ],
   "source": [
    "import pandas as pd\n",
    "import random\n",
    "from tqdm import tqdm\n",
    "data = pd.read_csv(\"iris.data\", header=None)\n",
    "data.head()"
   ]
  },
  {
   "cell_type": "code",
   "execution_count": 7,
   "metadata": {},
   "outputs": [],
   "source": [
    "def random_centroid(data):\n",
    "    m0 = random.uniform(min(data[0]), max(data[0]))\n",
    "    m1 = random.uniform(min(data[1]), max(data[1]))\n",
    "    m2 = random.uniform(min(data[2]), max(data[2]))\n",
    "    m3 = random.uniform(min(data[3]), max(data[3]))\n",
    "    centroid = np.array([m0, m1, m2, m3])\n",
    "    return centroid"
   ]
  },
  {
   "cell_type": "code",
   "execution_count": 8,
   "metadata": {},
   "outputs": [
    {
     "name": "stderr",
     "output_type": "stream",
     "text": [
      "100%|██████████| 100/100 [02:12<00:00,  1.33s/it]\n"
     ]
    }
   ],
   "source": [
    "# Represent cluster\n",
    "ncentroids = 5\n",
    "ncols = 4\n",
    "nrows = len(data)\n",
    "nparticles = 100\n",
    "\n",
    "centroids = []\n",
    "particles = []\n",
    "\n",
    "def dst(x, c):\n",
    "    return np.linalg.norm(x-c)\n",
    "\n",
    "\n",
    "def quantization_error(p):\n",
    "    total_clusters = 0\n",
    "    total_single = 0\n",
    "    for c in p[\"clusters\"]:\n",
    "        for dp in c[\"dps\"]:\n",
    "            total_single += dst(dp, c[\"centroid\"])/len(c[\"dps\"])\n",
    "        total_clusters += total_single\n",
    "    return total_clusters/len(p[\"clusters\"])\n",
    "\n",
    "v = 1\n",
    "for p in range(nparticles):\n",
    "    particle = {}\n",
    "    for i in range(ncentroids):\n",
    "        centroid = random_centroid(data)\n",
    "        x = {\"centroid\":centroid, \n",
    "             \"dps\":np.zeros((1, 4)),\n",
    "             \"v\":v,\n",
    "             \"loc\":centroid}\n",
    "        centroids.append(x)\n",
    "    centroids = np.array(centroids)\n",
    "    particle[\"clusters\"] = centroids                  \n",
    "    particle[\"fitness\"] = quantization_error(particle)\n",
    "    particles.append(particle)\n",
    "    centroids = []\n",
    "# Swarm of candidate clusterings\n",
    "global_best = 100000\n",
    "itr = 100\n",
    "\n",
    "#For i in iterations\n",
    "for i in tqdm(range(itr)):\n",
    "    for p in particles:\n",
    "        for dp in data.to_numpy():\n",
    "            best = 10000                  # A very big number\n",
    "            cluster = None\n",
    "            for centroid in p[\"clusters\"]:            # Calculate Euclidean distance to all centroids\n",
    "                distance = dst(dp[:-1], centroid[\"centroid\"])  \n",
    "                if distance < best:\n",
    "                    best = distance\n",
    "                    cluster = centroid\n",
    "            cluster[\"dps\"] = np.vstack((cluster[\"dps\"], dp[:-1]))     # Assign datavector to closest centroid\n",
    "        \n",
    "        p[\"fitness\"] = quantization_error(p)             # Quantization error fitness of particle\n",
    "    \n",
    "        if p[\"fitness\"] < global_best:\n",
    "            global_best = p[\"fitness\"]\n",
    "    \n",
    "    for p in particles:\n",
    "        for c in p[\"clusters\"]:     # For each particle update centroid \n",
    "            vnew = 0.73*c[\"v\"]+1.5*(c[\"loc\"]-c[\"centroid\"])+1.5*(global_best-x[\"centroid\"])\n",
    "            c[\"v\"] = vnew\n",
    "            c[\"centroid\"] = c[\"centroid\"] + vnew\n",
    "            \n",
    "        if p[\"fitness\"] > quantization_error(p):\n",
    "            for c in p[\"clusters\"]:\n",
    "                c[\"loc\"] = c[\"centroid\"]\n",
    "    \n",
    "    for p in particles:\n",
    "        if i < itr-2:\n",
    "            for c in p[\"clusters\"]:\n",
    "                c[\"dps\"] = np.zeros((1, 4))\n",
    "\n",
    "        \n"
   ]
  },
  {
   "cell_type": "code",
   "execution_count": 9,
   "metadata": {},
   "outputs": [
    {
     "data": {
      "image/png": "[encoded data removed]",
      "text/plain": [
       "<Figure size 432x288 with 1 Axes>"
      ]
     },
     "metadata": {
      "needs_background": "light"
     },
     "output_type": "display_data"
    },
    {
     "data": {
      "image/png": "[encoded data removed]",
      "text/plain": [
       "<Figure size 360x288 with 1 Axes>"
      ]
     },
     "metadata": {
      "needs_background": "light"
     },
     "output_type": "display_data"
    }
   ],
   "source": [
    "best = 100000\n",
    "for p in particles:\n",
    "    if p[\"fitness\"] < best:\n",
    "        best_p = p\n",
    "        \n",
    "\n",
    "for c in best_p[\"clusters\"]:\n",
    "    plt.scatter(c[\"dps\"][1:,0], c[\"dps\"][1:,1])\n",
    "# The indices of the features that we are plotting\n",
    "x_index = 0\n",
    "y_index = 1\n",
    "\n",
    "\n",
    "plt.figure(figsize=(5, 4))\n",
    "setosa = data[data[4] == \"Iris-setosa\"].to_numpy()\n",
    "virginica =  data[data[4] == \"Iris-virginica\"].to_numpy()\n",
    "versicolor =  data[data[4] == \"Iris-versicolor\"].to_numpy()\n",
    "\n",
    "for iris in (setosa, virginica, versicolor):\n",
    "    plt.scatter(iris[:, x_index], iris[:, y_index])\n",
    "\n",
    "plt.tight_layout()\n",
    "plt.show()"
   ]
  },
  {
   "cell_type": "code",
   "execution_count": 14,
   "metadata": {},
   "outputs": [
    {
     "name": "stderr",
     "output_type": "stream",
     "text": [
      "100%|██████████| 1000/1000 [00:08<00:00, 122.91it/s]\n"
     ]
    }
   ],
   "source": [
    "def random_centroid(data):\n",
    "    m0 = random.uniform(min(data[0]), max(data[0]))\n",
    "    m1 = random.uniform(min(data[1]), max(data[1]))\n",
    "    m2 = random.uniform(min(data[2]), max(data[2]))\n",
    "    m3 = random.uniform(min(data[3]), max(data[3]))\n",
    "    centroid = np.array([m0, m1, m2, m3])\n",
    "    return centroid\n",
    "\n",
    "def dst(x, c):\n",
    "    return np.linalg.norm(x - c)\n",
    "\n",
    "nclusters = 5\n",
    "iterations = 1000\n",
    "clusters = []\n",
    "for i in range(nclusters):\n",
    "    cluster = {}\n",
    "    cluster[\"centroid\"] = random_centroid(data)\n",
    "    cluster[\"data\"] = np.zeros((1,4))\n",
    "    clusters.append(cluster)\n",
    "\n",
    "for i in tqdm(range(iterations)):\n",
    "    for vector in data.to_numpy():\n",
    "        best = 10000\n",
    "        centroid = None\n",
    "        for cluster in clusters:\n",
    "            new_dst = dst(vector[:-1], cluster[\"centroid\"])\n",
    "            if new_dst < best:\n",
    "                best = new_dst\n",
    "                best_centroid = cluster\n",
    "        best_centroid[\"data\"] = np.vstack((best_centroid[\"data\"], vector[:-1]))\n",
    "    \n",
    "    for cluster in clusters:\n",
    "        cluster[\"centroid\"] = cluster[\"data\"].mean(axis=0)\n",
    "        if i < iterations-1:\n",
    "            cluster[\"data\"] = np.zeros((1,4))\n",
    "\n"
   ]
  },
  {
   "cell_type": "code",
   "execution_count": 15,
   "metadata": {},
   "outputs": [
    {
     "data": {
      "image/png": "[encoded data removed]",
      "text/plain": [
       "<Figure size 432x288 with 1 Axes>"
      ]
     },
     "metadata": {
      "needs_background": "light"
     },
     "output_type": "display_data"
    },
    {
     "data": {
      "image/png": "[encoded data removed]",
      "text/plain": [
       "<Figure size 360x288 with 1 Axes>"
      ]
     },
     "metadata": {
      "needs_background": "light"
     },
     "output_type": "display_data"
    }
   ],
   "source": [
    "for c in clusters:\n",
    "    plt.scatter(c[\"data\"][1:,0], c[\"data\"][1:,1])\n",
    "plt.show()\n",
    "\n",
    "plt.figure(figsize=(5, 4))\n",
    "setosa = data[data[4] == \"Iris-setosa\"].to_numpy()\n",
    "virginica =  data[data[4] == \"Iris-virginica\"].to_numpy()\n",
    "versicolor =  data[data[4] == \"Iris-versicolor\"].to_numpy()\n",
    "\n",
    "for iris in (setosa, virginica, versicolor):\n",
    "    plt.scatter(iris[:, x_index], iris[:, y_index])\n",
    "\n",
    "plt.tight_layout()\n",
    "plt.show()"
   ]
  },
  {
   "cell_type": "code",
   "execution_count": 167,
   "metadata": {},
   "outputs": [
    {
     "data": {
      "text/plain": [
       "array([0, 0, 0, 0, 0, 0, 0, 0, 0, 0, 0, 0, 0, 0, 0, 0, 0, 0, 0, 0, 0, 0,\n",
       "       0, 0, 0, 0, 0, 0, 0, 0, 0, 0, 0, 0, 0, 0, 0, 0, 0, 0, 0, 0, 0, 0,\n",
       "       0, 0, 0, 0, 0, 0, 1, 1, 2, 1, 1, 1, 1, 1, 1, 1, 1, 1, 1, 1, 1, 1,\n",
       "       1, 1, 1, 1, 1, 1, 1, 1, 1, 1, 1, 2, 1, 1, 1, 1, 1, 1, 1, 1, 1, 1,\n",
       "       1, 1, 1, 1, 1, 1, 1, 1, 1, 1, 1, 1, 2, 1, 2, 2, 2, 2, 1, 2, 2, 2,\n",
       "       2, 2, 2, 1, 1, 2, 2, 2, 2, 1, 2, 1, 2, 1, 2, 2, 1, 1, 2, 2, 2, 2,\n",
       "       2, 1, 2, 2, 2, 2, 1, 2, 2, 2, 1, 2, 2, 2, 1, 2, 2, 1], dtype=int32)"
      ]
     },
     "execution_count": 167,
     "metadata": {},
     "output_type": "execute_result"
    }
   ],
   "source": []
  },
  {
   "cell_type": "code",
   "execution_count": null,
   "metadata": {},
   "outputs": [],
   "source": []
  }
 ],
 "metadata": {
  "kernelspec": {
   "display_name": "Python 3",
   "language": "python",
   "name": "python3"
  },
  "language_info": {
   "codemirror_mode": {
    "name": "ipython",
    "version": 3
   },
   "file_extension": ".py",
   "mimetype": "text/x-python",
   "name": "python",
   "nbconvert_exporter": "python",
   "pygments_lexer": "ipython3",
   "version": "3.8.5"
  }
 },
 "nbformat": 4,
 "nbformat_minor": 4
}
